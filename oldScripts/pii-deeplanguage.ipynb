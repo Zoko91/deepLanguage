{
 "metadata": {
  "kernelspec": {
   "language": "python",
   "display_name": "Python 3",
   "name": "python3"
  },
  "language_info": {
   "name": "python",
   "version": "3.7.12",
   "mimetype": "text/x-python",
   "codemirror_mode": {
    "name": "ipython",
    "version": 3
   },
   "pygments_lexer": "ipython3",
   "nbconvert_exporter": "python",
   "file_extension": ".py"
  }
 },
 "nbformat_minor": 4,
 "nbformat": 4,
 "cells": [
  {
   "cell_type": "code",
   "source": "cd ../input",
   "metadata": {
    "_uuid": "8f2839f25d086af736a60e9eeb907d3b93b6e0e5",
    "_cell_guid": "b1076dfc-b9ad-4769-8c92-a6c4dae69d19",
    "execution": {
     "iopub.status.busy": "2023-01-21T19:15:24.721234Z",
     "iopub.execute_input": "2023-01-21T19:15:24.721765Z",
     "iopub.status.idle": "2023-01-21T19:15:24.749491Z",
     "shell.execute_reply.started": "2023-01-21T19:15:24.721658Z",
     "shell.execute_reply": "2023-01-21T19:15:24.748205Z"
    },
    "trusted": true
   },
   "execution_count": 1,
   "outputs": [
    {
     "name": "stdout",
     "text": "/kaggle/input\n",
     "output_type": "stream"
    }
   ]
  },
  {
   "cell_type": "code",
   "source": "import os\nimport tensorflow as tf\nimport tensorflow_io as tfio\n\nFR = os.path.join('data-fr')\nEN = os.path.join('data-en')\nDE = os.path.join('data-de')\nES = os.path.join('data-es')\nfr = tf.data.Dataset.list_files(FR + '/*.wav')\nen = tf.data.Dataset.list_files(EN + '/*.wav')\nde = tf.data.Dataset.list_files(DE + '/*.wav')\nes = tf.data.Dataset.list_files(ES + '/*.wav')\n\n\nfrMapped = tf.data.Dataset.zip((fr, tf.data.Dataset.from_tensor_slices(tf.ones(len(fr)))))\nenMapped = tf.data.Dataset.zip((en, tf.data.Dataset.from_tensor_slices(tf.zeros(len(en)))))\ndeMapped = tf.data.Dataset.zip((de, tf.data.Dataset.from_tensor_slices(tf.ones(len(de))*2)))\nesMapped = tf.data.Dataset.zip((es, tf.data.Dataset.from_tensor_slices(tf.ones(len(es))*3)))\n\ndata = frMapped.concatenate(enMapped)\ndata = data.concatenate(deMapped)\ndata = data.concatenate(esMapped)",
   "metadata": {
    "execution": {
     "iopub.status.busy": "2023-01-21T19:15:28.169174Z",
     "iopub.execute_input": "2023-01-21T19:15:28.170068Z",
     "iopub.status.idle": "2023-01-21T19:15:36.430680Z",
     "shell.execute_reply.started": "2023-01-21T19:15:28.170028Z",
     "shell.execute_reply": "2023-01-21T19:15:36.429738Z"
    },
    "trusted": true
   },
   "execution_count": 2,
   "outputs": [
    {
     "name": "stderr",
     "text": "2023-01-21 19:15:34.334958: I tensorflow/core/common_runtime/process_util.cc:146] Creating new thread pool with default inter op setting: 2. Tune using inter_op_parallelism_threads for best performance.\n",
     "output_type": "stream"
    }
   ]
  },
  {
   "cell_type": "code",
   "source": "def load_wav_16k_mono(filename):\n    file_contents = tf.io.read_file(filename)\n    wav, sample_rate = tf.audio.decode_wav(file_contents, desired_channels=1)\n    wav = tf.squeeze(wav, axis=-1)\n    sample_rate = tf.cast(sample_rate, dtype=tf.int64)\n    wav = tfio.audio.resample(wav, rate_in=sample_rate, rate_out=16000)\n    return wav\n\ndef preprocess(file_path, label):\n     # Load audio file\n    wav = load_wav_16k_mono(file_path)\n    # Pad or truncate the audio file to 5 seconds\n    wav = wav[:80000]\n    zero_padding = tf.zeros([80000] - tf.shape(wav), dtype=tf.float32)\n    # Concatenate audio with padding so that all audio clips will be of the\n    wav = tf.concat([zero_padding, wav], 0)\n    # Normalize the audio file\n    # Do I really need to normalize ???\n    wav = wav / tf.math.reduce_max(wav)\n    spectrogram = tf.signal.stft(wav, frame_length=320, frame_step=32)\n    # Stride of 50% (ratio between frame_length and frame_step)\n    # frame_length: 320 = 20ms with 16kHz pooling rate\n    # frame_step: 32 = 2ms with 16kHz pooling rate\n    spectrogram = tf.abs(spectrogram)\n    spectrogram = tf.expand_dims(spectrogram, axis=2)\n    return spectrogram, label\n\ndata = data.map(preprocess)\ndata = data.cache()\ndata = data.shuffle(buffer_size=4000)\ndata = data.batch(32)\ndata = data.prefetch(16)\n\ntrain = data.take(3200)\ntest = data.skip(3200).take(800)",
   "metadata": {
    "execution": {
     "iopub.status.busy": "2023-01-21T19:15:41.867968Z",
     "iopub.execute_input": "2023-01-21T19:15:41.868612Z",
     "iopub.status.idle": "2023-01-21T19:15:42.941686Z",
     "shell.execute_reply.started": "2023-01-21T19:15:41.868574Z",
     "shell.execute_reply": "2023-01-21T19:15:42.940396Z"
    },
    "trusted": true
   },
   "execution_count": 3,
   "outputs": [
    {
     "name": "stderr",
     "text": "2023-01-21 19:15:42.310874: I tensorflow_io/core/kernels/cpu_check.cc:128] Your CPU supports instructions that this TensorFlow IO binary was not compiled to use: AVX2 FMA\n",
     "output_type": "stream"
    }
   ]
  },
  {
   "cell_type": "code",
   "source": "model = tf.keras.models.Sequential()\nmodel.add(tf.keras.layers.Conv2D(32, (3, 3), activation='relu', input_shape=(2491, 257, 1)))\nmodel.add(tf.keras.layers.MaxPooling2D(2, 2))\nmodel.add(tf.keras.layers.BatchNormalization())\nmodel.add(tf.keras.layers.Conv2D(32, (3, 3), activation='relu'))\nmodel.add(tf.keras.layers.MaxPooling2D(2, 2))\nmodel.add(tf.keras.layers.BatchNormalization())\nmodel.add(tf.keras.layers.Flatten())\nmodel.add(tf.keras.layers.Dense(64, activation='relu'))\nmodel.add(tf.keras.layers.Dense(4, activation='softmax'))\nmodel.compile(optimizer='adam', loss='sparse_categorical_crossentropy', metrics=['sparse_categorical_accuracy'])\nmodel.summary()",
   "metadata": {
    "execution": {
     "iopub.status.busy": "2023-01-21T19:15:53.584466Z",
     "iopub.execute_input": "2023-01-21T19:15:53.584880Z",
     "iopub.status.idle": "2023-01-21T19:15:54.238763Z",
     "shell.execute_reply.started": "2023-01-21T19:15:53.584849Z",
     "shell.execute_reply": "2023-01-21T19:15:54.237483Z"
    },
    "trusted": true
   },
   "execution_count": 4,
   "outputs": [
    {
     "name": "stdout",
     "text": "Model: \"sequential\"\n_________________________________________________________________\nLayer (type)                 Output Shape              Param #   \n=================================================================\nconv2d (Conv2D)              (None, 2489, 255, 32)     320       \n_________________________________________________________________\nmax_pooling2d (MaxPooling2D) (None, 1244, 127, 32)     0         \n_________________________________________________________________\nbatch_normalization (BatchNo (None, 1244, 127, 32)     128       \n_________________________________________________________________\nconv2d_1 (Conv2D)            (None, 1242, 125, 32)     9248      \n_________________________________________________________________\nmax_pooling2d_1 (MaxPooling2 (None, 621, 62, 32)       0         \n_________________________________________________________________\nbatch_normalization_1 (Batch (None, 621, 62, 32)       128       \n_________________________________________________________________\nflatten (Flatten)            (None, 1232064)           0         \n_________________________________________________________________\ndense (Dense)                (None, 64)                78852160  \n_________________________________________________________________\ndense_1 (Dense)              (None, 4)                 260       \n=================================================================\nTotal params: 78,862,244\nTrainable params: 78,862,116\nNon-trainable params: 128\n_________________________________________________________________\n",
     "output_type": "stream"
    }
   ]
  },
  {
   "cell_type": "code",
   "source": "print(\"Time to train the Model\")\n# Train the model\n# --------------------------------------------------------------\nhistory = model.fit(train, epochs=4, validation_data=test, verbose=1)\n# --------------------------------------------------------------",
   "metadata": {
    "execution": {
     "iopub.status.busy": "2023-01-21T19:16:04.678479Z",
     "iopub.execute_input": "2023-01-21T19:16:04.679002Z",
     "iopub.status.idle": "2023-01-21T20:06:10.390971Z",
     "shell.execute_reply.started": "2023-01-21T19:16:04.678945Z",
     "shell.execute_reply": "2023-01-21T20:06:10.389562Z"
    },
    "trusted": true
   },
   "execution_count": 5,
   "outputs": [
    {
     "name": "stdout",
     "text": "Time to train the Model\nEpoch 1/4\n",
     "output_type": "stream"
    },
    {
     "name": "stderr",
     "text": "2023-01-21 19:16:05.285743: I tensorflow/compiler/mlir/mlir_graph_optimization_pass.cc:185] None of the MLIR Optimization Passes are enabled (registered 2)\n2023-01-21 19:16:15.591257: I tensorflow/core/kernels/data/shuffle_dataset_op.cc:175] Filling up shuffle buffer (this may take a while): 237 of 4000\n2023-01-21 19:16:25.562612: I tensorflow/core/kernels/data/shuffle_dataset_op.cc:175] Filling up shuffle buffer (this may take a while): 475 of 4000\n2023-01-21 19:16:35.555652: I tensorflow/core/kernels/data/shuffle_dataset_op.cc:175] Filling up shuffle buffer (this may take a while): 719 of 4000\n2023-01-21 19:16:45.561185: I tensorflow/core/kernels/data/shuffle_dataset_op.cc:175] Filling up shuffle buffer (this may take a while): 953 of 4000\n2023-01-21 19:16:55.568221: I tensorflow/core/kernels/data/shuffle_dataset_op.cc:175] Filling up shuffle buffer (this may take a while): 1196 of 4000\n2023-01-21 19:17:05.543646: I tensorflow/core/kernels/data/shuffle_dataset_op.cc:175] Filling up shuffle buffer (this may take a while): 1437 of 4000\n2023-01-21 19:17:15.560786: I tensorflow/core/kernels/data/shuffle_dataset_op.cc:175] Filling up shuffle buffer (this may take a while): 1672 of 4000\n2023-01-21 19:17:25.550700: I tensorflow/core/kernels/data/shuffle_dataset_op.cc:175] Filling up shuffle buffer (this may take a while): 1914 of 4000\n2023-01-21 19:17:35.553766: I tensorflow/core/kernels/data/shuffle_dataset_op.cc:175] Filling up shuffle buffer (this may take a while): 2152 of 4000\n2023-01-21 19:17:45.544122: I tensorflow/core/kernels/data/shuffle_dataset_op.cc:175] Filling up shuffle buffer (this may take a while): 2386 of 4000\n2023-01-21 19:17:55.566613: I tensorflow/core/kernels/data/shuffle_dataset_op.cc:175] Filling up shuffle buffer (this may take a while): 2628 of 4000\n2023-01-21 19:18:05.544493: I tensorflow/core/kernels/data/shuffle_dataset_op.cc:175] Filling up shuffle buffer (this may take a while): 2869 of 4000\n2023-01-21 19:18:15.575869: I tensorflow/core/kernels/data/shuffle_dataset_op.cc:175] Filling up shuffle buffer (this may take a while): 3105 of 4000\n2023-01-21 19:18:25.549262: I tensorflow/core/kernels/data/shuffle_dataset_op.cc:175] Filling up shuffle buffer (this may take a while): 3349 of 4000\n2023-01-21 19:18:35.565258: I tensorflow/core/kernels/data/shuffle_dataset_op.cc:175] Filling up shuffle buffer (this may take a while): 3593 of 4000\n2023-01-21 19:18:45.568697: I tensorflow/core/kernels/data/shuffle_dataset_op.cc:175] Filling up shuffle buffer (this may take a while): 3828 of 4000\n2023-01-21 19:18:52.708739: I tensorflow/core/kernels/data/shuffle_dataset_op.cc:228] Shuffle buffer filled.\n",
     "output_type": "stream"
    },
    {
     "name": "stdout",
     "text": "125/125 [==============================] - 882s 6s/step - loss: 11.1539 - sparse_categorical_accuracy: 0.2833\nEpoch 2/4\n125/125 [==============================] - 706s 6s/step - loss: 1.2424 - sparse_categorical_accuracy: 0.3692\nEpoch 3/4\n125/125 [==============================] - 711s 6s/step - loss: 1.3430 - sparse_categorical_accuracy: 0.2903\nEpoch 4/4\n125/125 [==============================] - 707s 6s/step - loss: 1.2261 - sparse_categorical_accuracy: 0.3655\n",
     "output_type": "stream"
    }
   ]
  },
  {
   "cell_type": "code",
   "source": "from matplotlib import pyplot as plt\nplt.title('Loss')\nplt.plot(history.history['loss'], 'r')\nplt.show()\nplt.title('Precision')\nplt.plot(history.history['sparse_categorical_accuracy'], 'r')\nplt.show()",
   "metadata": {
    "execution": {
     "iopub.status.busy": "2023-01-21T20:41:48.774666Z",
     "iopub.execute_input": "2023-01-21T20:41:48.775063Z",
     "iopub.status.idle": "2023-01-21T20:41:49.150640Z",
     "shell.execute_reply.started": "2023-01-21T20:41:48.775030Z",
     "shell.execute_reply": "2023-01-21T20:41:49.149416Z"
    },
    "trusted": true
   },
   "execution_count": 7,
   "outputs": [
    {
     "output_type": "display_data",
     "data": {
      "text/plain": "<Figure size 432x288 with 1 Axes>",
      "image/png": "[encoded data removed]"
     },
     "metadata": {
      "needs_background": "light"
     }
    },
    {
     "output_type": "display_data",
     "data": {
      "text/plain": "<Figure size 432x288 with 1 Axes>",
      "image/png": "[encoded data removed]"
     },
     "metadata": {
      "needs_background": "light"
     }
    }
   ]
  },
  {
   "cell_type": "code",
   "source": "cd ../working",
   "metadata": {
    "execution": {
     "iopub.status.busy": "2023-01-20T12:41:36.171711Z",
     "iopub.execute_input": "2023-01-20T12:41:36.172132Z",
     "iopub.status.idle": "2023-01-20T12:41:36.180113Z",
     "shell.execute_reply.started": "2023-01-20T12:41:36.172098Z",
     "shell.execute_reply": "2023-01-20T12:41:36.178753Z"
    },
    "trusted": true
   },
   "execution_count": 18,
   "outputs": [
    {
     "name": "stdout",
     "text": "/kaggle/working\n",
     "output_type": "stream"
    }
   ]
  },
  {
   "cell_type": "code",
   "source": "# Save the model\nmodel.save('model.h5')",
   "metadata": {
    "execution": {
     "iopub.status.busy": "2023-01-20T12:41:12.279721Z",
     "iopub.status.idle": "2023-01-20T12:41:12.280852Z",
     "shell.execute_reply.started": "2023-01-20T12:41:12.280553Z",
     "shell.execute_reply": "2023-01-20T12:41:12.280583Z"
    },
    "trusted": true
   },
   "execution_count": null,
   "outputs": []
  },
  {
   "cell_type": "code",
   "source": "from tensorflow import keras\nmodel = keras.models.load_model('../input/models/model.h5')",
   "metadata": {
    "execution": {
     "iopub.status.busy": "2023-01-20T12:41:39.304109Z",
     "iopub.execute_input": "2023-01-20T12:41:39.305267Z",
     "iopub.status.idle": "2023-01-20T12:41:47.639821Z",
     "shell.execute_reply.started": "2023-01-20T12:41:39.305217Z",
     "shell.execute_reply": "2023-01-20T12:41:47.638534Z"
    },
    "trusted": true
   },
   "execution_count": 19,
   "outputs": []
  }
 ]
}
